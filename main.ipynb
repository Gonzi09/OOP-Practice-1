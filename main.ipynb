{
 "cells": [
  {
   "cell_type": "markdown",
   "metadata": {},
   "source": [
    "I recommend the use of Jupyter Notebooks for practicing Python."
   ]
  },
  {
   "cell_type": "code",
   "execution_count": null,
   "metadata": {},
   "outputs": [],
   "source": [
    "import random"
   ]
  },
  {
   "cell_type": "code",
   "execution_count": null,
   "metadata": {},
   "outputs": [],
   "source": [
    "# For storing customers ids if re-runned the existing ids would be lost\n",
    "customers_id = set()"
   ]
  },
  {
   "cell_type": "code",
   "execution_count": null,
   "metadata": {},
   "outputs": [],
   "source": [
    "class Customer(object):\n",
    "  \n",
    "  def __init__(self):\n",
    "\n",
    "    self.customer_id = self.addCustomerId()\n",
    "    self.name = self.addUsername()\n",
    "    customers_id.add(self.customer_id)\n",
    "    self.accounts = {}\n",
    "\n",
    "  def addAccount(self, account, account_type):\n",
    "    self.accounts[account.account_number] = account_type\n",
    "    return self.accounts\n",
    "  \n",
    "  def addCustomerId(self):\n",
    "    while True:\n",
    "        iden_num = random.randint(1000,9999)\n",
    "        if iden_num not in customers_id:\n",
    "            return iden_num\n",
    "\n",
    "  def addUsername(self):\n",
    "    return input(\"Enter a username\")\n",
    "  \n",
    "  def showCustomerInfo(self):\n",
    "     print(f\"Customer Name: {self.name}\")\n",
    "     print(f\"Customer ID: {self.customer_id}\")\n",
    "     print(f\"Customer Accounts: {self.accounts}\")"
   ]
  },
  {
   "cell_type": "code",
   "execution_count": null,
   "metadata": {},
   "outputs": [],
   "source": [
    "class Account(object):\n",
    "\n",
    "  def __init__(self, account_number, initial_balance = 0):\n",
    "    self.account_number = account_number\n",
    "    self.balance = initial_balance\n",
    "\n",
    "  def deposit(self, amount):\n",
    "    self.balance += amount\n",
    "\n",
    "    return 'Your balance is {}'.format(self.balance)\n",
    "\n",
    "  def getfunds(self):\n",
    "    return self.balance\n",
    "\n",
    "  def withdraw(self, amount):\n",
    "\n",
    "    if amount > self.balance:\n",
    "      return 'You do not have enough funds'\n",
    "\n",
    "    self.balance = self.balance - amount\n",
    "    return self.balance\n",
    "\n",
    "  def __str__(self):\n",
    "    return 'The funds for this account are {}'.format(self.getfunds())"
   ]
  },
  {
   "cell_type": "code",
   "execution_count": null,
   "metadata": {},
   "outputs": [],
   "source": [
    "class Bank(object):\n",
    "\n",
    "  def __init__(self):\n",
    "    self.customers = {}\n",
    "\n",
    "  def addCustomer(self, bank_customer):\n",
    "    self.customers[bank_customer.customer_id] = bank_customer  "
   ]
  }
 ],
 "metadata": {
  "kernelspec": {
   "display_name": "Python 3",
   "language": "python",
   "name": "python3"
  },
  "language_info": {
   "codemirror_mode": {
    "name": "ipython",
    "version": 3
   },
   "file_extension": ".py",
   "mimetype": "text/x-python",
   "name": "python",
   "nbconvert_exporter": "python",
   "pygments_lexer": "ipython3",
   "version": "3.9.6"
  }
 },
 "nbformat": 4,
 "nbformat_minor": 2
}
